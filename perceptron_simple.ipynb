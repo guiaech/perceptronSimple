{
  "nbformat": 4,
  "nbformat_minor": 0,
  "metadata": {
    "colab": {
      "name": "perceptron_simple.ipynb",
      "provenance": []
    },
    "kernelspec": {
      "name": "python3",
      "display_name": "Python 3"
    },
    "language_info": {
      "name": "python"
    }
  },
  "cells": [
    {
      "cell_type": "markdown",
      "metadata": {
        "id": "xgmlkmjqt3GT"
      },
      "source": [
        "\n",
        "# **A intenção é criar um perceptron que consiga identificar se uma fruta é maça ou laranja pelos dados de peso e ph. Para isso iremos treinar ele e depois**\n",
        "\n"
      ]
    },
    {
      "cell_type": "code",
      "metadata": {
        "id": "KFv0gEjwtTld"
      },
      "source": [
        "import numpy as np"
      ],
      "execution_count": 1,
      "outputs": []
    },
    {
      "cell_type": "code",
      "metadata": {
        "id": "Fyc1ynhotfnH"
      },
      "source": [
        "# Define o número de épocas e o número de amostras (q)\n",
        "numEpocas = 80000\n",
        "q=6"
      ],
      "execution_count": 17,
      "outputs": []
    },
    {
      "cell_type": "code",
      "metadata": {
        "id": "B_9whPPxtoMB"
      },
      "source": [
        "# Atributos\n",
        "peso = np.array([113, 122, 107, 98, 115, 120])\n",
        "pH = np.array([6.8, 4.7, 5.2, 3.6, 2.9, 4.2])"
      ],
      "execution_count": 3,
      "outputs": []
    },
    {
      "cell_type": "code",
      "metadata": {
        "id": "0aNPf27Suwx-"
      },
      "source": [
        "# Bias\n",
        "bias = 1"
      ],
      "execution_count": 4,
      "outputs": []
    },
    {
      "cell_type": "code",
      "metadata": {
        "id": "DChcOU_euznZ"
      },
      "source": [
        "#Entrada do perceptron\n",
        "X = np.vstack((peso, pH))\n",
        "Y = np.array([-1, 1, -1, -1, 1, 1])"
      ],
      "execution_count": 8,
      "outputs": []
    },
    {
      "cell_type": "code",
      "metadata": {
        "id": "RkvXnfEevSMA"
      },
      "source": [
        "# Taxa de aprendizado \n",
        "eta = 0.1"
      ],
      "execution_count": 9,
      "outputs": []
    },
    {
      "cell_type": "code",
      "metadata": {
        "id": "0OVqyzuSvWyC"
      },
      "source": [
        "# Define o vetor de pesos\n",
        "W= np.zeros([1,3])     # Duas entradas + o bias"
      ],
      "execution_count": 10,
      "outputs": []
    },
    {
      "cell_type": "code",
      "metadata": {
        "id": "nlN_KgjkvjOl"
      },
      "source": [
        "# Array para armazenar os erros\n",
        "e = np.zeros(6)"
      ],
      "execution_count": 11,
      "outputs": []
    },
    {
      "cell_type": "code",
      "metadata": {
        "id": "aES3Y6iCvoh1"
      },
      "source": [
        "def funcaoAtivacao(valor):\n",
        "  # A função de ativação a degrau bipolar\n",
        "  if valor < 0.0:\n",
        "    return(-1)\n",
        "  else:\n",
        "    return(1)"
      ],
      "execution_count": 14,
      "outputs": []
    },
    {
      "cell_type": "code",
      "metadata": {
        "colab": {
          "base_uri": "https://localhost:8080/"
        },
        "id": "Nz_yPENVwC-6",
        "outputId": "46ac58d5-f5f4-4988-e7aa-77ae07d8af65"
      },
      "source": [
        "for j in range(numEpocas):\n",
        "  for k in range(q):\n",
        "    # Insere o bias no vetor de entrada \n",
        "    Xb = np.hstack((bias, X[:,k]))\n",
        "\n",
        "    #Calcula o campo induzido \n",
        "    V = np.dot(W, Xb)   \n",
        "\n",
        "    #Calcula a saída perceptron\n",
        "    Yr = funcaoAtivacao(V)  \n",
        "\n",
        "    #Calcula o erro: e = (Y - Yr)\n",
        "    e[k] = Y[k] - Yr\n",
        "\n",
        "    #Treinamento do perceptron\n",
        "    W = W + eta*e[k]*Xb\n",
        "\n",
        "print('Vetor de erros (e) =' + str(e))\n"
      ],
      "execution_count": 18,
      "outputs": [
        {
          "output_type": "stream",
          "name": "stdout",
          "text": [
            "Vetor de erros (e) =[0. 0. 0. 0. 0. 0.]\n"
          ]
        }
      ]
    }
  ]
}